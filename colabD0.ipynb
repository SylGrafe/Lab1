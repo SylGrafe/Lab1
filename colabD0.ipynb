{
  "nbformat": 4,
  "nbformat_minor": 0,
  "metadata": {
    "colab": {
      "name": "colabD0",
      "version": "0.3.2",
      "provenance": [],
      "collapsed_sections": [],
      "include_colab_link": true
    },
    "kernelspec": {
      "name": "python3",
      "display_name": "Python 3"
    },
    "accelerator": "GPU"
  },
  "cells": [
    {
      "cell_type": "markdown",
      "metadata": {
        "id": "view-in-github",
        "colab_type": "text"
      },
      "source": [
        "<a href=\"https://colab.research.google.com/github/SylGrafe/Lab1/blob/master/colabD0.ipynb\" target=\"_parent\"><img src=\"https://colab.research.google.com/assets/colab-badge.svg\" alt=\"Open In Colab\"/></a>"
      ]
    },
    {
      "metadata": {
        "id": "zKqaUmpsvYTD",
        "colab_type": "text"
      },
      "cell_type": "markdown",
      "source": [
        "testimport"
      ]
    },
    {
      "metadata": {
        "id": "De-ryP_vvpqj",
        "colab_type": "text"
      },
      "cell_type": "markdown",
      "source": [
        "!git clone https://github.com/SylGrafe/RepoLab1.git"
      ]
    },
    {
      "metadata": {
        "id": "NFL8GJJmvo1o",
        "colab_type": "code",
        "collapsed": true,
        "outputId": "642b1cc2-5f4f-47a2-bc03-6ce04ff55138",
        "colab": {
          "base_uri": "https://localhost:8080/",
          "height": 1054
        }
      },
      "cell_type": "code",
      "source": [
        "import numpy as np\n",
        "import matplotlib.pyplot as plt\n",
        "import sys\n",
        "import datetime\n",
        "\n",
        "from keras import layers\n",
        "from keras import models\n",
        "from keras.datasets import mnist \n",
        "from keras.utils import to_categorical\n",
        "import pickle\n",
        "\n",
        "# lab1Utils.py is expected to be in the \n",
        "# https://github.com/SylGrafe/RepoLab1.git\n",
        "!git clone https://github.com/SylGrafe/lab1.git\n",
        "import sys\n",
        "sys.path.insert(0, \"lab1\")\n",
        "import lab1Utils\n",
        "\n",
        "\n",
        "CAndR = lab1Utils.ConfigAndResults\n",
        "\n",
        "optimizerStr = 'rmsprop'\n",
        "lossStr = 'categorical_crossentropy'\n",
        "theDumpFileName = \"./benchMarkColab.json\"\n",
        "startTime= datetime.datetime.now()\n",
        "\n",
        "\n",
        "myEpochs=25\n",
        "myBs=64\n",
        "modelStruct=\"D512\"\n",
        "L1NeuronsNb = 512\n",
        "L2NeuronsNb = 10  # must be 10\n",
        "startTime = datetime.datetime.now()\n",
        "\n",
        "theModel = models.Sequential()\n",
        "theModel.add(layers.Dense(L1NeuronsNb,activation='relu' , input_shape=(28*28,)))\n",
        "theModel.add(layers.Dense(L2NeuronsNb,activation='softmax'))\n",
        "\n",
        "(train_images, train_labels),(test_images,test_labels) = mnist.load_data()\n",
        "\n",
        "\n",
        "theModel.compile (optimizer=optimizerStr , loss=lossStr ,\n",
        "         metrics=['accuracy'])\n",
        "train_images = train_images.reshape ((60000 , 28*28))\n",
        "train_images = train_images.astype('float32') / 255\n",
        "test_images = test_images.reshape ((10000 , 28*28))\n",
        "test_images = test_images.astype('float32') / 255\n",
        "train_labels = to_categorical (train_labels)\n",
        "test_labels = to_categorical (test_labels)\n",
        "\n",
        "print (\"train dummy model for NMIST classification\")\n",
        "theFit= theModel.fit (train_images , train_labels , epochs=myEpochs , verbose=2, batch_size=myBs)\n",
        "\n",
        "print (\"evaluate  dummy model for NMIST classification\")\n",
        "testRes =  theModel.evaluate (test_images , test_labels)\n",
        "print (\"theModel.metrics_names : *s\" ,  theModel.metrics_names )\n",
        "print (\"testRes: %s\" % (testRes))\n",
        "\n",
        "# save the results on disk\n",
        "print (\"saving on %s  the model config and  results \" % (theDumpFileName))\n",
        "\"\"\"\n",
        "res= CAndR (modelStruct ,optimizerStr+lossStr , theFit.history ,  theFit.params , \n",
        " startTime.strftime(\"%d%m_%H%M\")  )\n",
        "\"\"\"\n",
        "res= CAndR (modelStruct ,optimizerStr+lossStr , theFit.history ,  theFit.params , \n",
        " startTime.strftime(\"%d%m_%H%M\")  , testRes= testRes )\n",
        "\n",
        "\n",
        "lab1Utils.dumpOnFile (res , theDumpFileName)\n",
        "\n",
        "\n",
        "#  how much time does this take ?\n",
        "stopTime = datetime.datetime.now()\n",
        "duration = stopTime - startTime\n",
        "seconds = duration.total_seconds()\n",
        "hours = seconds // 3600\n",
        "minutes = (seconds % 3600) // 60\n",
        "seconds = seconds % 60\n",
        "\n",
        "#print ( \"start : \" , startTime.strftime(\"%a, %d %B %Y %H:%M:%S\"))\n",
        "#print ( \"stop at: \" , stopTime.strftime(\"%a, %d %B %Y %H:%M:%S\"))\n",
        "print ( \"duration: h:%d mn:%d sec:%d \" % (hours , minutes , seconds))\n",
        "\n"
      ],
      "execution_count": 0,
      "outputs": [
        {
          "output_type": "stream",
          "text": [
            "fatal: destination path 'lab1' already exists and is not an empty directory.\n",
            "train dummy model for NMIST classification\n",
            "Epoch 1/25\n",
            " - 4s - loss: 0.2218 - acc: 0.9345\n",
            "Epoch 2/25\n",
            " - 3s - loss: 0.0930 - acc: 0.9728\n",
            "Epoch 3/25\n",
            " - 3s - loss: 0.0629 - acc: 0.9811\n",
            "Epoch 4/25\n",
            " - 3s - loss: 0.0460 - acc: 0.9856\n",
            "Epoch 5/25\n",
            " - 3s - loss: 0.0360 - acc: 0.9891\n",
            "Epoch 6/25\n",
            " - 3s - loss: 0.0277 - acc: 0.9918\n",
            "Epoch 7/25\n",
            " - 3s - loss: 0.0216 - acc: 0.9941\n",
            "Epoch 8/25\n",
            " - 3s - loss: 0.0163 - acc: 0.9953\n",
            "Epoch 9/25\n",
            " - 3s - loss: 0.0135 - acc: 0.9958\n",
            "Epoch 10/25\n",
            " - 3s - loss: 0.0110 - acc: 0.9967\n",
            "Epoch 11/25\n",
            " - 3s - loss: 0.0090 - acc: 0.9973\n",
            "Epoch 12/25\n",
            " - 3s - loss: 0.0071 - acc: 0.9978\n",
            "Epoch 13/25\n",
            " - 3s - loss: 0.0059 - acc: 0.9986\n",
            "Epoch 14/25\n",
            " - 3s - loss: 0.0047 - acc: 0.9987\n",
            "Epoch 15/25\n",
            " - 3s - loss: 0.0043 - acc: 0.9990\n",
            "Epoch 16/25\n",
            " - 3s - loss: 0.0037 - acc: 0.9991\n",
            "Epoch 17/25\n",
            " - 3s - loss: 0.0031 - acc: 0.9993\n",
            "Epoch 18/25\n",
            " - 3s - loss: 0.0030 - acc: 0.9994\n",
            "Epoch 19/25\n",
            " - 3s - loss: 0.0025 - acc: 0.9995\n",
            "Epoch 20/25\n",
            " - 3s - loss: 0.0022 - acc: 0.9995\n",
            "Epoch 21/25\n",
            " - 3s - loss: 0.0020 - acc: 0.9997\n",
            "Epoch 22/25\n",
            " - 3s - loss: 0.0017 - acc: 0.9998\n",
            "Epoch 23/25\n",
            " - 3s - loss: 0.0018 - acc: 0.9997\n",
            "Epoch 24/25\n",
            " - 3s - loss: 0.0015 - acc: 0.9997\n",
            "Epoch 25/25\n",
            " - 3s - loss: 0.0017 - acc: 0.9997\n",
            "evaluate  dummy model for NMIST classification\n",
            "10000/10000 [==============================] - 1s 50us/step\n",
            "theModel.metrics_names : *s ['loss', 'acc']\n",
            "testRes: [0.12204862487581407, 0.9824]\n",
            "saving on ./benchMarkColab.json  the model config and  results \n",
            "************ dumpOnFile () : append to file  ./benchMarkColab.json  \n",
            "\n",
            " Dumping object D512 in the file  ./benchMarkColab.json \n",
            "duration: h:0 mn:1 sec:27 \n"
          ],
          "name": "stdout"
        }
      ]
    },
    {
      "metadata": {
        "id": "IiatpVOTXLDc",
        "colab_type": "code",
        "colab": {}
      },
      "cell_type": "code",
      "source": [
        "\n",
        "\n",
        "from google.colab import files\n",
        "files.download(theDumpFileName)"
      ],
      "execution_count": 0,
      "outputs": []
    },
    {
      "metadata": {
        "id": "vTl6xsZGReLL",
        "colab_type": "code",
        "outputId": "575a56d4-d3b6-4abe-e423-41f8bb50dfa1",
        "colab": {
          "base_uri": "https://localhost:8080/",
          "height": 34
        }
      },
      "cell_type": "code",
      "source": [
        "!ls \n",
        "\n"
      ],
      "execution_count": 0,
      "outputs": [
        {
          "output_type": "stream",
          "text": [
            "benchMarkColab.json  conv2d_1.json  lab1  sample_data\n"
          ],
          "name": "stdout"
        }
      ]
    },
    {
      "metadata": {
        "id": "Zgqw2QFTMVVQ",
        "colab_type": "text"
      },
      "cell_type": "markdown",
      "source": [
        "end of notebook\n",
        "\n"
      ]
    }
  ]
}